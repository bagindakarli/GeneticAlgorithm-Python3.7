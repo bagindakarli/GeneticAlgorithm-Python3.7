{
 "cells": [
  {
   "cell_type": "code",
   "execution_count": 288,
   "metadata": {},
   "outputs": [],
   "source": [
    "import numpy as np\n",
    "import math"
   ]
  },
  {
   "cell_type": "code",
   "execution_count": 294,
   "metadata": {},
   "outputs": [],
   "source": [
    "# pembuatan kromosom \n",
    "def kromosom_init():\n",
    "    kromosom = []\n",
    "    for i in range(0,4):\n",
    "        kromosom.append(np.random.randint(0,10))\n",
    "    return kromosom\n",
    "\n",
    "#print(kromosom_init())"
   ]
  },
  {
   "cell_type": "code",
   "execution_count": 301,
   "metadata": {},
   "outputs": [],
   "source": [
    "# pembuatan populasi untuk menggabungkan kromosom\n",
    "def populasi_init():\n",
    "    populasi = []\n",
    "    for i in range(0,4):\n",
    "        populasi.append(kromosom_init())\n",
    "    return populasi\n",
    "\n",
    "#print(populasi_init())"
   ]
  },
  {
   "cell_type": "code",
   "execution_count": 304,
   "metadata": {},
   "outputs": [],
   "source": [
    "# pendekodean kromosom menggunakan rumus khusus untuk kromosom yang berisi integer\n",
    "def dekode_kromosom(kromosom,r_min,r_max):\n",
    "    sigma = 0\n",
    "    sigma_k = 0\n",
    "    \n",
    "    for i in range(len(kromosom_a)-1):\n",
    "        sigma += 10**-i\n",
    "        sigma_k += kromosom[i] * sigma\n",
    "    hasil_dekode = r_min + ((r_max - r_min)/9 * sigma) * sigma_k\n",
    "    return hasil_dekode"
   ]
  },
  {
   "cell_type": "code",
   "execution_count": 310,
   "metadata": {},
   "outputs": [],
   "source": [
    "def div_kromosom(kromosom):\n",
    "    kromosom_a = []\n",
    "    kromosom_b = []\n",
    "    for i in range(0,2):\n",
    "        kromosom_a.append(kromosom[i])\n",
    "        kromosom_b.append(kromosom[i+2])\n",
    "    return kromosom_a, kromosom_b"
   ]
  },
  {
   "cell_type": "code",
   "execution_count": 312,
   "metadata": {},
   "outputs": [],
   "source": [
    "# perhitungan nilai fitness untuk mencari nilai kecocokan kromosom terhadap permasalahan. Semakin tinggi nilai fitness, maka solusi semakin optimal\n",
    "def fitness(x1,x2):\n",
    "    return math.cos(x1) * math.sin(x2) - x1/(x2**2 + 1)"
   ]
  },
  {
   "cell_type": "code",
   "execution_count": 317,
   "metadata": {},
   "outputs": [
    {
     "name": "stdout",
     "output_type": "stream",
     "text": [
      "populasi [[1, 9, 3, 8], [1, 8, 0, 4], [5, 1, 7, 6], [2, 2, 3, 8]]\n",
      "\n",
      "[1, 9, 3, 8]\n",
      "Hasil dekode kromosom a =  -0.6666666666666667\n",
      "Hasil dekode kromosom b =  -0.33333333333333337\n",
      "Fitness =  0.34286185599412794\n",
      "\n",
      "[1, 8, 0, 4]\n",
      "Hasil dekode kromosom a =  -0.6666666666666667\n",
      "Hasil dekode kromosom b =  -1.0\n",
      "Fitness =  -0.32796799394062515\n",
      "\n",
      "[5, 1, 7, 6]\n",
      "Hasil dekode kromosom a =  0.6666666666666665\n",
      "Hasil dekode kromosom b =  0.5555555555555554\n",
      "Fitness =  -0.09494492944828237\n",
      "\n",
      "[2, 2, 3, 8]\n",
      "Hasil dekode kromosom a =  -0.33333333333333337\n",
      "Hasil dekode kromosom b =  -0.33333333333333337\n",
      "Fitness =  -0.009184901534868506\n"
     ]
    }
   ],
   "source": [
    "r1_min = -1\n",
    "r1_max = 2\n",
    "r2_min = -1\n",
    "r2_max = 1\n",
    "kromosom = kromosom_init()\n",
    "populasi = populasi_init()\n",
    "semua_fitness = []\n",
    "print('populasi',populasi)\n",
    "\n",
    "for i in range(len(populasi)):\n",
    "    kromosom_a, kromosom_b = div_kromosom(populasi[i])\n",
    "    hasil_dekode_a = dekode_kromosom(kromosom_a,r1_min,r1_max)\n",
    "    hasil_dekode_b = dekode_kromosom(kromosom_b,r2_min,r2_max)\n",
    "    \n",
    "    hasil_fitness = fitness(hasil_dekode_a,hasil_dekode_b)\n",
    "    semua_fitness.append(hasil_fitness)\n",
    "    print()\n",
    "    print(populasi[i])\n",
    "    print('Hasil dekode kromosom a = ', hasil_dekode_a)\n",
    "    print('Hasil dekode kromosom b = ', hasil_dekode_b)\n",
    "    print('Fitness = ', hasil_fitness)"
   ]
  },
  {
   "cell_type": "code",
   "execution_count": 324,
   "metadata": {},
   "outputs": [],
   "source": [
    "# pemilihan parent dengan menggunakan metode stochastic roulette\n",
    "def pilih_parent(semua_fitness):\n",
    "    # stochastic roulette\n",
    "    cek = True\n",
    "    fitness_maks = max(semua_fitness)\n",
    "    while(cek):\n",
    "        indeks = round(np.random.uniform()*len(semua_fitness)-1)\n",
    "        r = np.random.uniform()\n",
    "        if (r < semua_fitness[indeks]/fitness_maks):\n",
    "            cek = False\n",
    "    return indeks;"
   ]
  },
  {
   "cell_type": "code",
   "execution_count": 331,
   "metadata": {},
   "outputs": [
    {
     "name": "stdout",
     "output_type": "stream",
     "text": [
      "Parent 1 =  0 [1, 9, 3, 8]\n",
      "Parent 2 =  0 [1, 9, 3, 8]\n"
     ]
    }
   ],
   "source": [
    "parent_1 = pilih_parent(semua_fitness)\n",
    "parent_2 = pilih_parent(semua_fitness)\n",
    "\n",
    "print('Parent 1 = ', parent_1, populasi[parent_1])\n",
    "print('Parent 2 = ', parent_2, populasi[parent_2])"
   ]
  },
  {
   "cell_type": "code",
   "execution_count": 334,
   "metadata": {},
   "outputs": [],
   "source": [
    "# proses pindah silang yang dilakukan untuk membentuk dua kromosom anak baru dari dua parent yang terpilih\n",
    "def crossover(parent_1, parent_2):\n",
    "    kromosom_a, kromosom_b = div_kromosom(parent_1)\n",
    "    kromosom_c, kromosom_d = div_kromosom(parent_2)\n",
    "    \n",
    "    child_1 = []\n",
    "    child_2 = []\n",
    "    \n",
    "    child_1.append(kromosom_a+kromosom_d)\n",
    "    child_2.append(kromosom_c+kromosom_b)\n",
    "    \n",
    "    return child_1, child_2"
   ]
  },
  {
   "cell_type": "code",
   "execution_count": 337,
   "metadata": {},
   "outputs": [
    {
     "name": "stdout",
     "output_type": "stream",
     "text": [
      "Parent 1:  [1, 9, 3, 8]\n",
      "Parent 2:  [1, 9, 3, 8]\n",
      "\n",
      "Child 1:  [[1, 9, 3, 8]]\n",
      "Child 2:  [[1, 9, 3, 8]]\n",
      "\n",
      "Semua Child:  [[[1, 9, 3, 8]], [[1, 9, 3, 8]]]\n"
     ]
    }
   ],
   "source": [
    "child_1, child_2 = crossover(populasi[parent_1],populasi[parent_2])\n",
    "semua_child = []\n",
    "semua_child.append(child_1)\n",
    "semua_child.append(child_2)\n",
    "\n",
    "print('Parent 1: ', populasi[parent_1])\n",
    "print('Parent 2: ', populasi[parent_2])\n",
    "print()\n",
    "print('Child 1: ', child_1)\n",
    "print('Child 2: ', child_2)\n",
    "print()\n",
    "\n",
    "print('Semua Child: ', semua_child)"
   ]
  },
  {
   "cell_type": "code",
   "execution_count": 341,
   "metadata": {},
   "outputs": [],
   "source": [
    "# proses mutasi yang dilakukan untuk mengganti suatu gen dengan gen yang baru\n",
    "def mutasi(child_1, child_2):\n",
    "    probs = np.random.randint(0,100)\n",
    "    if probs == 1:\n",
    "        indeks = np.random.randint(0,len(child_1)-1)\n",
    "        child_1[indeks] = np.random.randint(0,10)\n",
    "    elif probs == 2:\n",
    "        indeks = np.random.randint(0,len(child_2)-1)\n",
    "        child_2[indeks] = np.random.randint(0,10)"
   ]
  },
  {
   "cell_type": "code",
   "execution_count": 347,
   "metadata": {},
   "outputs": [],
   "source": [
    "# proses penggantian generasi untuk memilih kromosom terbaik untuk selanjutnya akan dijadikan populasi untuk generasi berikutnya\n",
    "def generasi_baru(semua_fitness, populasi, semua_child):\n",
    "    # proses ini menggunakan metode seleksi fitness based selection\n",
    "    kromosom_baru = []\n",
    "    populasi_baru = []\n",
    "    \n",
    "    if (semua_fitness[0] < semua_fitness[1]):\n",
    "        min_a = 0\n",
    "        min_b = 1\n",
    "    else:\n",
    "        min_a = 1\n",
    "        min_b =0\n",
    "        \n",
    "    for i in range(2, len(semua_fitness)):\n",
    "        if (semua_fitness[i] < semua_fitness[min_b]):\n",
    "            if(semua_fitness[i] < semua_fitness[min_a]):\n",
    "                min_b = min_a\n",
    "                min_a = i\n",
    "            else:\n",
    "                min_b = i\n",
    "                \n",
    "    for j in range(len(populasi)):\n",
    "        if (j == min_a):\n",
    "            kromosom_baru.append(semua_child[0])\n",
    "            pop = []\n",
    "            child_a, child_b = div_kromosom(semua_child[0])\n",
    "            pop.append(dekode_kromosom(child_a,r1_min,r1_max))\n",
    "            pop.append(dekode_kromosom(child_b,r2_min,r2_max))\n",
    "            populasi_baru.append(pop)\n",
    "            \n",
    "        elif (j == min_b):\n",
    "            kromosom_baru.append(semua_child[1])\n",
    "            pop = []\n",
    "            child_a, child_b = div_kromosom(semua_child[1])\n",
    "            pop.append(dekode_kromosom(child_a,r1_min,r1_max))\n",
    "            pop.append(dekode_kromosom(child_b,r2_min,r2_max))\n",
    "            populasi_baru.append(pop)\n",
    "            \n",
    "        else:\n",
    "            kromosom_baru.append(semua_child[j])\n",
    "            pop = []\n",
    "            child_a, child_b = div_kromosom(semua_child[j])\n",
    "            pop.append(dekode_kromosom(child_a,r1_min,r1_max))\n",
    "            pop.append(dekode_kromosom(child_b,r2_min,r2_max))\n",
    "            populasi_baru.append(pop)\n",
    "            \n",
    "    return populasi_baru, kromosom_baru\n",
    "    print(semua_child[1])"
   ]
  },
  {
   "cell_type": "code",
   "execution_count": 351,
   "metadata": {},
   "outputs": [],
   "source": [
    "#ganti_generasi(semua_fitness,populasi,semua_child)\n",
    "\n",
    "generasi = 0\n",
    "generasi_maks = 100\n",
    "\n",
    "while (generasi < generasi_maks):\n",
    "    generasi += 1\n",
    "    parent_a = pilih_parent(semua_fitness)\n",
    "    parent_b = pilih_parent(semua_fitness)\n",
    "    i = 0\n",
    "    while (parent_a == parent_b):\n",
    "        i += 1\n",
    "        parent_b = pilih_parent(semua_fitness)\n",
    "        if (i < generasi_maks):\n",
    "            break;"
   ]
  }
 ],
 "metadata": {
  "kernelspec": {
   "display_name": "Python 3",
   "language": "python",
   "name": "python3"
  },
  "language_info": {
   "codemirror_mode": {
    "name": "ipython",
    "version": 3
   },
   "file_extension": ".py",
   "mimetype": "text/x-python",
   "name": "python",
   "nbconvert_exporter": "python",
   "pygments_lexer": "ipython3",
   "version": "3.7.4"
  }
 },
 "nbformat": 4,
 "nbformat_minor": 2
}
